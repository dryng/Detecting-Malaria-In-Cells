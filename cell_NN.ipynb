{
 "cells": [
  {
   "cell_type": "code",
   "execution_count": 2,
   "metadata": {},
   "outputs": [],
   "source": [
    "import time\n",
    "import numpy as np\n",
    "import h5py\n",
    "import matplotlib.pyplot as plt\n",
    "from dnn_app_utils_v3 import *\n",
    "from data import *"
   ]
  },
  {
   "cell_type": "code",
   "execution_count": 3,
   "metadata": {},
   "outputs": [],
   "source": [
    "def L_layer_model(X, Y, layers_dims, learning_rate=0.0075, num_iterations=3000, print_cost=False):  # lr was 0.009\n",
    "    \"\"\"\n",
    "    Implements a L-layer neural network: [LINEAR->RELU]*(L-1)->LINEAR->SIGMOID.\n",
    "\n",
    "    Arguments:\n",
    "    X -- data, numpy array of shape (num_px * num_px * 3, number of examples)\n",
    "    Y -- true \"label\" vector (containing 0 if cat, 1 if non-cat), of shape (1, number of examples)\n",
    "    layers_dims -- list containing the input size and each layer size, of length (number of layers + 1).\n",
    "    learning_rate -- learning rate of the gradient descent update rule\n",
    "    num_iterations -- number of iterations of the optimization loop\n",
    "    print_cost -- if True, it prints the cost every 100 steps\n",
    "\n",
    "    Returns:\n",
    "    parameters -- parameters learnt by the model. They can then be used to predict.\n",
    "    \"\"\"\n",
    "\n",
    "    np.random.seed(1)\n",
    "    costs = []  # keep track of cost\n",
    "\n",
    "    # START CODE HERE\n",
    "    parameters = initialize_parameters_deep(layers_dims)\n",
    "    # END CODE HERE\n",
    "\n",
    "    # Loop (gradient descent)\n",
    "    for i in range(0, num_iterations):\n",
    "\n",
    "        # Forward propagation: [LINEAR -> RELU]*(L-1) -> LINEAR -> SIGMOID.\n",
    "        AL, caches = L_model_forward(X, parameters)\n",
    "\n",
    "        # Compute cost.\n",
    "        cost = compute_cost(AL, Y)\n",
    "\n",
    "        # Backward propagation.\n",
    "        grads = L_model_backward(AL, Y, caches)\n",
    "\n",
    "        # Update parameters.\n",
    "        parameters = update_parameters(parameters, grads, learning_rate)\n",
    "\n",
    "        # Print the cost every 100 training example\n",
    "        if print_cost and i % 100 == 0:\n",
    "            print (\"Cost after iteration %i: %f\" % (i, cost))\n",
    "        if print_cost and i % 100 == 0:\n",
    "            costs.append(cost)\n",
    "\n",
    "    # plot the cost\n",
    "    plt.plot(np.squeeze(costs))\n",
    "    plt.ylabel('cost')\n",
    "    plt.xlabel('iterations (per hundreds)')\n",
    "    plt.title(\"Learning rate =\" + str(learning_rate))\n",
    "    plt.show()\n",
    "\n",
    "    return parameters"
   ]
  },
  {
   "cell_type": "code",
   "execution_count": 4,
   "metadata": {},
   "outputs": [],
   "source": [
    "def setup_plt():\n",
    "    plt.rcParams['figure.figsize'] = (5.0, 4.0)  # set default size of plots\n",
    "    plt.rcParams['image.interpolation'] = 'nearest'\n",
    "    plt.rcParams['image.cmap'] = 'gray'"
   ]
  },
  {
   "cell_type": "code",
   "execution_count": 5,
   "metadata": {},
   "outputs": [],
   "source": [
    "def show_picture(index, train_x_orig, train_y, classes):\n",
    "    index = index\n",
    "    plt.imshow(train_x_orig[index])\n",
    "    print(\"y = \" + str(train_y[index]) + \". It's a \" + str(classes[train_y[index]]) + \" cell.\")\n",
    "    plt.show()"
   ]
  },
  {
   "cell_type": "code",
   "execution_count": 6,
   "metadata": {},
   "outputs": [],
   "source": [
    "def show_picture_old(index, train_x_orig, train_y, classes):\n",
    "    index = index\n",
    "    plt.imshow(train_x_orig[index])\n",
    "    print (\"y = \" + str(train_y[0,index]) + \". It's a \" + classes[train_y[0,index]] +  \" picture.\")"
   ]
  },
  {
   "cell_type": "code",
   "execution_count": 7,
   "metadata": {},
   "outputs": [],
   "source": [
    "def explore_dataset(train_x_orig, train_y, test_x_orig, test_y):\n",
    "    m_train = train_x_orig.shape[0]\n",
    "    num_px = train_x_orig.shape[1]\n",
    "    m_test = test_x_orig.shape[0]\n",
    "\n",
    "    print(\"Number of training examples: \" + str(m_train))\n",
    "    print(\"Number of testing examples: \" + str(m_test))\n",
    "    print(\"Each image is of size: (\" + str(num_px) + \", \" + str(num_px) + \", 3)\")\n",
    "    print(\"train_x_orig shape: \" + str(train_x_orig.shape))\n",
    "    print(\"train_y shape: \" + str(train_y.shape))\n",
    "    print(\"test_x_orig shape: \" + str(test_x_orig.shape))\n",
    "    print(\"test_y shape: \" + str(test_y.shape))"
   ]
  },
  {
   "cell_type": "code",
   "execution_count": 8,
   "metadata": {},
   "outputs": [],
   "source": [
    "def flatten_and_normalize(train_x_orig, train_y, test_x_orig, test_y):\n",
    "    # Reshape the training and test examples\n",
    "    train_x_flatten = train_x_orig.reshape(train_x_orig.shape[0],\n",
    "                                           -1).T  # The \"-1\" makes reshape flatten the remaining dimensions\n",
    "    test_x_flatten = test_x_orig.reshape(test_x_orig.shape[0], -1).T\n",
    "\n",
    "    # Standardize data to have feature values between 0 and 1.\n",
    "    train_x = train_x_flatten / 255.\n",
    "    test_x = test_x_flatten / 255.\n",
    "\n",
    "    return train_x, test_x"
   ]
  },
  {
   "cell_type": "code",
   "execution_count": 9,
   "metadata": {},
   "outputs": [],
   "source": [
    "def main():\n",
    "    setup_plt()\n",
    "    train_x_orig, test_x_orig, train_y, test_y, classes = load_data()\n",
    "    show_picture(10, train_x_orig, train_y, classes)\n",
    "    explore_dataset(train_x_orig, train_y, test_x_orig, test_y)\n",
    "    train_x, test_x = flatten_and_normalize(train_x_orig, train_y, test_x_orig, test_y)\n",
    "\n",
    "    layers_dims = [50700, 50, 40, 15, 5, 1]  # 4-layer model\n",
    "    parameters = L_layer_model(train_x, train_y, layers_dims, num_iterations=2400, print_cost=True)\n",
    "\n",
    "    pred_train = predict(train_x, train_y, parameters)\n",
    "    pred_test = predict(test_x, test_y, parameters)"
   ]
  },
  {
   "cell_type": "code",
   "execution_count": 10,
   "metadata": {},
   "outputs": [],
   "source": [
    "setup_plt()"
   ]
  },
  {
   "cell_type": "code",
   "execution_count": 11,
   "metadata": {},
   "outputs": [],
   "source": [
    "train_x_orig, test_x_orig, train_y, test_y, classes = load_data()"
   ]
  },
  {
   "cell_type": "code",
   "execution_count": 12,
   "metadata": {},
   "outputs": [
    {
     "data": {
      "text/plain": [
       "(1, 3693)"
      ]
     },
     "execution_count": 12,
     "metadata": {},
     "output_type": "execute_result"
    }
   ],
   "source": [
    "train_y.shape"
   ]
  },
  {
   "cell_type": "code",
   "execution_count": 13,
   "metadata": {},
   "outputs": [
    {
     "data": {
      "text/plain": [
       "(1, 1819)"
      ]
     },
     "execution_count": 13,
     "metadata": {},
     "output_type": "execute_result"
    }
   ],
   "source": [
    "test_y.shape"
   ]
  },
  {
   "cell_type": "code",
   "execution_count": 14,
   "metadata": {},
   "outputs": [
    {
     "name": "stdout",
     "output_type": "stream",
     "text": [
      "y = 1. It's a parasitized picture.\n"
     ]
    },
    {
     "data": {
      "image/png": "[encoded data removed]",
      "text/plain": [
       "<Figure size 360x288 with 1 Axes>"
      ]
     },
     "metadata": {
      "needs_background": "light"
     },
     "output_type": "display_data"
    }
   ],
   "source": [
    "show_picture_old(11, train_x_orig, train_y, classes)"
   ]
  },
  {
   "cell_type": "code",
   "execution_count": 15,
   "metadata": {},
   "outputs": [
    {
     "name": "stdout",
     "output_type": "stream",
     "text": [
      "Number of training examples: 3693\n",
      "Number of testing examples: 1819\n",
      "Each image is of size: (130, 130, 3)\n",
      "train_x_orig shape: (3693, 130, 130, 3)\n",
      "train_y shape: (1, 3693)\n",
      "test_x_orig shape: (1819, 130, 130, 3)\n",
      "test_y shape: (1, 1819)\n"
     ]
    }
   ],
   "source": [
    "explore_dataset(train_x_orig, train_y, test_x_orig, test_y)"
   ]
  },
  {
   "cell_type": "code",
   "execution_count": 16,
   "metadata": {},
   "outputs": [
    {
     "data": {
      "text/plain": [
       "(3693, 130, 130, 3)"
      ]
     },
     "execution_count": 16,
     "metadata": {},
     "output_type": "execute_result"
    }
   ],
   "source": [
    "train_x_orig.shape"
   ]
  },
  {
   "cell_type": "code",
   "execution_count": 17,
   "metadata": {},
   "outputs": [],
   "source": [
    "train_x, test_x = flatten_and_normalize(train_x_orig, train_y, test_x_orig, test_y)"
   ]
  },
  {
   "cell_type": "code",
   "execution_count": 18,
   "metadata": {},
   "outputs": [
    {
     "name": "stdout",
     "output_type": "stream",
     "text": [
      "Cost after iteration 0: 0.693147\n",
      "Cost after iteration 100: 0.642506\n",
      "Cost after iteration 200: 0.609467\n",
      "Cost after iteration 300: 0.587628\n",
      "Cost after iteration 400: 0.573200\n",
      "Cost after iteration 500: 0.563737\n",
      "Cost after iteration 600: 0.557601\n",
      "Cost after iteration 700: 0.553674\n",
      "Cost after iteration 800: 0.551194\n",
      "Cost after iteration 900: 0.549646\n",
      "Cost after iteration 1000: 0.548690\n",
      "Cost after iteration 1100: 0.548105\n",
      "Cost after iteration 1200: 0.547749\n",
      "Cost after iteration 1300: 0.547534\n",
      "Cost after iteration 1400: 0.547405\n",
      "Cost after iteration 1500: 0.547327\n",
      "Cost after iteration 1600: 0.547281\n",
      "Cost after iteration 1700: 0.547252\n",
      "Cost after iteration 1800: 0.547235\n",
      "Cost after iteration 1900: 0.547225\n",
      "Cost after iteration 2000: 0.547219\n",
      "Cost after iteration 2100: 0.547214\n",
      "Cost after iteration 2200: 0.547211\n",
      "Cost after iteration 2300: 0.547209\n"
     ]
    },
    {
     "data": {
      "image/png": "[encoded data removed]",
      "text/plain": [
       "<Figure size 360x288 with 1 Axes>"
      ]
     },
     "metadata": {
      "needs_background": "light"
     },
     "output_type": "display_data"
    }
   ],
   "source": [
    "layers_dims = [50700, 50, 40, 15, 5, 1]  # 4-layer model\n",
    "parameters = L_layer_model(train_x, train_y, layers_dims, num_iterations=2400, print_cost=True)"
   ]
  },
  {
   "cell_type": "code",
   "execution_count": 20,
   "metadata": {},
   "outputs": [
    {
     "name": "stdout",
     "output_type": "stream",
     "text": [
      "Accuracy: 0.7633360411589494\n"
     ]
    }
   ],
   "source": [
    "pred_train = predict(train_x, train_y, parameters)"
   ]
  },
  {
   "cell_type": "code",
   "execution_count": 21,
   "metadata": {},
   "outputs": [
    {
     "name": "stdout",
     "output_type": "stream",
     "text": [
      "Accuracy: 0.7658053875755908\n"
     ]
    }
   ],
   "source": [
    "pred_test = predict(test_x, test_y, parameters)"
   ]
  },
  {
   "cell_type": "code",
   "execution_count": 19,
   "metadata": {},
   "outputs": [
    {
     "data": {
      "text/plain": [
       "(50700, 3693)"
      ]
     },
     "execution_count": 19,
     "metadata": {},
     "output_type": "execute_result"
    }
   ],
   "source": [
    "show_picture_old()"
   ]
  },
  {
   "cell_type": "code",
   "execution_count": 22,
   "metadata": {},
   "outputs": [
    {
     "data": {
      "text/plain": [
       "{'W1': array([[ 7.21363083e-03, -2.71717816e-03, -2.34594789e-03, ...,\n",
       "         -3.91767475e-03,  5.82427211e-03,  5.25475422e-03],\n",
       "        [-4.23376044e-03, -7.88246418e-03,  4.31881002e-03, ...,\n",
       "         -3.46208197e-03, -2.68118115e-03,  1.30741222e-03],\n",
       "        [-4.36355700e-03, -2.96707233e-05,  1.99548955e-03, ...,\n",
       "          1.10879909e-03,  1.58925250e-04,  7.45895193e-03],\n",
       "        ...,\n",
       "        [ 8.67213219e-04,  5.01689953e-04, -1.07028446e-03, ...,\n",
       "          2.77803189e-03,  1.07631613e-04, -8.86425841e-03],\n",
       "        [-2.54244678e-03, -2.48199110e-03,  2.64926396e-03, ...,\n",
       "         -3.63219020e-03,  7.55355203e-03, -7.38152911e-04],\n",
       "        [-1.43964150e-03, -2.13003018e-03,  7.44976299e-03, ...,\n",
       "          6.00692515e-03,  3.70536321e-03,  5.56554460e-04]]),\n",
       " 'b1': array([[ 1.35645666e-02],\n",
       "        [ 3.51916052e-02],\n",
       "        [-3.62270154e-03],\n",
       "        [ 2.65670559e-02],\n",
       "        [ 8.23726989e-04],\n",
       "        [ 1.94412114e-03],\n",
       "        [ 3.14075418e-02],\n",
       "        [ 7.17229276e-03],\n",
       "        [ 2.43454630e-04],\n",
       "        [-2.10918935e-03],\n",
       "        [-7.43425520e-04],\n",
       "        [-3.17686990e-03],\n",
       "        [ 3.65737055e-04],\n",
       "        [-4.54635369e-03],\n",
       "        [-1.24988468e-03],\n",
       "        [ 4.89801243e-03],\n",
       "        [-3.59007221e-05],\n",
       "        [-2.11888328e-04],\n",
       "        [ 5.76685561e-03],\n",
       "        [-5.32380945e-04],\n",
       "        [ 6.81570127e-02],\n",
       "        [-1.43408154e-03],\n",
       "        [ 0.00000000e+00],\n",
       "        [ 7.51264274e-05],\n",
       "        [ 2.67276466e-02],\n",
       "        [-1.17238644e-03],\n",
       "        [ 4.52447922e-03],\n",
       "        [-6.50932589e-04],\n",
       "        [ 3.16814504e-05],\n",
       "        [-1.96360305e-04],\n",
       "        [ 8.26576871e-03],\n",
       "        [-4.01280187e-04],\n",
       "        [ 8.40050441e-03],\n",
       "        [-1.15955048e-03],\n",
       "        [-6.17728452e-04],\n",
       "        [ 2.32935393e-02],\n",
       "        [-2.54378722e-04],\n",
       "        [ 5.91854502e-05],\n",
       "        [ 3.04416591e-03],\n",
       "        [ 1.27553647e-02],\n",
       "        [-1.97521059e-05],\n",
       "        [-2.57067056e-03],\n",
       "        [-3.31201924e-04],\n",
       "        [ 1.99787589e-02],\n",
       "        [ 1.62422828e-02],\n",
       "        [ 3.01563348e-03],\n",
       "        [-1.41383478e-03],\n",
       "        [-1.84624506e-03],\n",
       "        [-2.79022085e-03],\n",
       "        [-7.42987116e-05]]),\n",
       " 'W2': array([[ 0.16732767,  0.07529557, -0.15820899, ...,  0.0239462 ,\n",
       "         -0.02825109,  0.09562177],\n",
       "        [-0.00223757,  0.09594105, -0.20573758, ..., -0.08034664,\n",
       "         -0.01430684,  0.03899607],\n",
       "        [-0.14172356, -0.05047689,  0.11162172, ...,  0.00929047,\n",
       "          0.00876349,  0.19026568],\n",
       "        ...,\n",
       "        [ 0.13809325, -0.35373244,  0.15940432, ...,  0.12278402,\n",
       "          0.23698921, -0.05984792],\n",
       "        [-0.00842986, -0.21397746,  0.08898665, ..., -0.03131262,\n",
       "          0.02539512, -0.23364097],\n",
       "        [-0.00688473, -0.34160574, -0.10193398, ..., -0.01922044,\n",
       "          0.19599446, -0.04257999]]),\n",
       " 'b2': array([[ 4.24467609e-02],\n",
       "        [-1.94991861e-02],\n",
       "        [-3.56494232e-05],\n",
       "        [ 0.00000000e+00],\n",
       "        [ 0.00000000e+00],\n",
       "        [-2.84394491e-06],\n",
       "        [ 0.00000000e+00],\n",
       "        [-3.57345267e-05],\n",
       "        [-4.07191648e-03],\n",
       "        [ 1.04886257e-02],\n",
       "        [-1.60259680e-02],\n",
       "        [-2.65368373e-05],\n",
       "        [ 3.47817214e-02],\n",
       "        [ 2.39958282e-02],\n",
       "        [ 8.09711610e-08],\n",
       "        [ 0.00000000e+00],\n",
       "        [ 6.22458644e-05],\n",
       "        [-3.15603200e-03],\n",
       "        [-1.73901414e-03],\n",
       "        [-1.31071742e-02],\n",
       "        [ 2.68786546e-03],\n",
       "        [ 8.20888515e-03],\n",
       "        [-9.21359687e-03],\n",
       "        [ 2.58237264e-02],\n",
       "        [ 1.26174687e-05],\n",
       "        [-1.39068956e-02],\n",
       "        [-1.03545761e-02],\n",
       "        [ 3.76909608e-02],\n",
       "        [ 3.45878811e-02],\n",
       "        [ 0.00000000e+00],\n",
       "        [ 1.99416285e-07],\n",
       "        [ 5.44595077e-02],\n",
       "        [ 7.40767956e-03],\n",
       "        [ 1.78041328e-02],\n",
       "        [ 4.32871103e-02],\n",
       "        [ 2.20355039e-02],\n",
       "        [ 5.59067100e-02],\n",
       "        [-1.34751692e-02],\n",
       "        [-1.65377099e-07],\n",
       "        [-8.74236481e-06]]),\n",
       " 'W3': array([[-0.03652991,  0.00985151,  0.05869344,  0.03578095,  0.36124598,\n",
       "          0.2000899 ,  0.0355375 ,  0.01884058,  0.04838705, -0.22509637,\n",
       "         -0.05120016,  0.31010379, -0.01635323,  0.19966908,  0.06547448,\n",
       "          0.31017799, -0.02215748, -0.04855888,  0.15999808,  0.06725944,\n",
       "          0.31284226, -0.10732292,  0.07239406, -0.06686678,  0.27986898,\n",
       "          0.02365547,  0.09529017, -0.09519887,  0.06040693,  0.2522157 ,\n",
       "         -0.14579476,  0.20563885,  0.22803739, -0.23159044,  0.30668172,\n",
       "         -0.07888884, -0.00404453,  0.02794977,  0.04146723,  0.14119245],\n",
       "        [-0.02431251, -0.09737886, -0.2432618 ,  0.23488556, -0.11147249,\n",
       "          0.0547356 , -0.28715476, -0.08891116, -0.04893697,  0.00861664,\n",
       "         -0.1138935 ,  0.20326982, -0.04243024,  0.06161527, -0.02877499,\n",
       "         -0.03371106, -0.32200288, -0.08828882,  0.05849933, -0.1094477 ,\n",
       "         -0.01689982,  0.04794221,  0.08818661,  0.08876272,  0.01067256,\n",
       "         -0.13554217,  0.2245043 ,  0.07534983,  0.13466989, -0.04082012,\n",
       "          0.02473031,  0.38765979, -0.01092129,  0.18010365,  0.02993517,\n",
       "         -0.00412215,  0.17301678, -0.06367134, -0.29028016, -0.14719908],\n",
       "        [ 0.23723046, -0.06826114,  0.12064152, -0.15386913,  0.27201255,\n",
       "          0.07231939, -0.08638886, -0.10355298, -0.24615104,  0.21792374,\n",
       "         -0.07424489, -0.15174932,  0.27906378, -0.17312588,  0.04913814,\n",
       "          0.1296324 ,  0.16823783,  0.15520892,  0.05813871, -0.17447976,\n",
       "          0.08708294,  0.03108813, -0.3762469 , -0.03287629, -0.00296751,\n",
       "          0.15222835, -0.21661771,  0.08930039,  0.00847538,  0.09077149,\n",
       "         -0.17246827,  0.21481164, -0.05011561, -0.05690726,  0.32515493,\n",
       "         -0.01921141,  0.01406564, -0.12494997, -0.01133107,  0.04207331],\n",
       "        [-0.36264829, -0.037314  ,  0.04585696, -0.02946648,  0.02831523,\n",
       "          0.15654431,  0.11830761, -0.10684947,  0.05750016,  0.18186015,\n",
       "         -0.14704591,  0.07846635, -0.14832589, -0.05465073,  0.23234875,\n",
       "          0.14938485,  0.1958797 , -0.21543123, -0.0816298 , -0.29785317,\n",
       "         -0.04773554, -0.13667395, -0.01340948,  0.20705592,  0.01150946,\n",
       "          0.11668754,  0.30829868,  0.05423515, -0.28568094, -0.11656312,\n",
       "          0.07667504,  0.10419715, -0.04298387,  0.18154898,  0.25723525,\n",
       "          0.02476326, -0.12990311,  0.18345552, -0.15712029,  0.28462526],\n",
       "        [-0.01717669,  0.16679093, -0.08010527, -0.20096118,  0.14931756,\n",
       "          0.04681778,  0.09923816, -0.1956252 ,  0.00719202, -0.24202188,\n",
       "         -0.2192015 ,  0.04376801,  0.08531514,  0.07698304, -0.47210424,\n",
       "         -0.14385414, -0.16225402,  0.17761224,  0.02596777,  0.14541639,\n",
       "         -0.03322164,  0.49120223,  0.23332794, -0.21357821,  0.03671441,\n",
       "         -0.02809878, -0.10925595,  0.25116434, -0.27210563, -0.00359699,\n",
       "          0.06122797, -0.13829547,  0.18966472, -0.03033258, -0.1401754 ,\n",
       "         -0.16316124, -0.27413458, -0.11425359,  0.03571631, -0.17316138],\n",
       "        [ 0.10551198, -0.23088494, -0.14510411, -0.07380324, -0.18211819,\n",
       "         -0.03601928,  0.01809428, -0.12067567,  0.16033073, -0.00822926,\n",
       "         -0.01478108,  0.21616472, -0.00093876,  0.24178564,  0.02020221,\n",
       "         -0.03713451,  0.23064645, -0.03556557,  0.01785613,  0.08619943,\n",
       "         -0.03468301,  0.21901314,  0.1886442 ,  0.14424868,  0.03438235,\n",
       "         -0.074039  ,  0.11309391,  0.1079174 , -0.15049176, -0.16054169,\n",
       "         -0.11033033,  0.11707117,  0.0496006 , -0.06151994,  0.03344962,\n",
       "          0.09154237,  0.32536702,  0.07580106, -0.0084642 ,  0.07391404],\n",
       "        [ 0.02430713, -0.10128744, -0.15386371, -0.14933128,  0.06472838,\n",
       "          0.24806529, -0.22580745,  0.21150489, -0.22409522,  0.08057539,\n",
       "         -0.1431267 ,  0.12902373,  0.12412879, -0.09298379, -0.0649719 ,\n",
       "         -0.32687193, -0.19676017,  0.06104532,  0.04719606,  0.03941776,\n",
       "         -0.02747434,  0.42232879,  0.25339488, -0.0016369 , -0.23575217,\n",
       "         -0.08139197, -0.02264859,  0.10413186, -0.1240543 , -0.19510778,\n",
       "          0.15703483,  0.20076569, -0.03332059,  0.05521847,  0.09478626,\n",
       "         -0.09201802, -0.08676549,  0.07880887, -0.08158654,  0.04903054],\n",
       "        [ 0.09141787,  0.03224162, -0.17641497,  0.06697986,  0.07092682,\n",
       "         -0.08712898,  0.15336382, -0.07421789, -0.02229858,  0.21127545,\n",
       "         -0.11462307,  0.07827772,  0.22618868,  0.12117735,  0.04971728,\n",
       "         -0.05637481, -0.29205957, -0.260786  ,  0.03043011, -0.22095779,\n",
       "         -0.20012524, -0.45293857, -0.14649429, -0.19302858, -0.22951742,\n",
       "          0.13363257, -0.01080752,  0.17312096,  0.0603968 , -0.04407288,\n",
       "          0.06733563,  0.02754538, -0.02197139,  0.07413461,  0.25454907,\n",
       "         -0.08226651,  0.16595058, -0.00069904,  0.08476209,  0.04030573],\n",
       "        [-0.11244513,  0.26355431, -0.01677771,  0.16719536, -0.06407722,\n",
       "          0.0267369 ,  0.12743383, -0.13235872,  0.0559566 ,  0.28971662,\n",
       "         -0.03092624, -0.01143234,  0.11840054, -0.04653178, -0.07783437,\n",
       "          0.20124423,  0.02496038, -0.07791282,  0.22060012,  0.00796118,\n",
       "          0.05518584,  0.18168668, -0.04210572, -0.05580309, -0.16301867,\n",
       "          0.22099389,  0.1245242 ,  0.17459496,  0.06387712,  0.01820657,\n",
       "         -0.27607004,  0.13093059,  0.03574906, -0.09845239,  0.13995073,\n",
       "         -0.33232059, -0.01612552,  0.09496328,  0.04450687,  0.09385238],\n",
       "        [-0.3864995 , -0.06594788, -0.03005074, -0.05964546, -0.09864578,\n",
       "          0.13048621, -0.12346034,  0.04978562,  0.05371084, -0.27938412,\n",
       "          0.05969303,  0.33692831,  0.27584259,  0.29145538, -0.15295503,\n",
       "         -0.24456967, -0.31636331, -0.2019639 ,  0.06724657, -0.29730675,\n",
       "         -0.1574982 ,  0.13999106, -0.17402894,  0.06241836,  0.13049698,\n",
       "          0.02631071, -0.04319637, -0.17405536,  0.01080576, -0.07536762,\n",
       "         -0.27170111,  0.26431543,  0.27826498, -0.10805759, -0.15667165,\n",
       "          0.04356444,  0.10501729,  0.12511168, -0.25707446, -0.11174615],\n",
       "        [-0.20597954, -0.12729765,  0.14034306, -0.12765318, -0.01846655,\n",
       "          0.22948909, -0.2230379 ,  0.17574638, -0.14279987,  0.07707347,\n",
       "          0.06485349, -0.24920093,  0.16380779, -0.29903467,  0.20380088,\n",
       "         -0.01392284, -0.11713614,  0.05001649, -0.23198421,  0.3276513 ,\n",
       "         -0.13831697, -0.17889944, -0.02766134, -0.07972984, -0.10070131,\n",
       "          0.07405923,  0.16224696,  0.03639114, -0.06196764, -0.08622271,\n",
       "         -0.23885898,  0.18585471, -0.03781884, -0.31298226, -0.1688308 ,\n",
       "          0.01795194,  0.18798007, -0.09023311,  0.22799383,  0.10687867],\n",
       "        [ 0.05013722, -0.11218537, -0.39516743,  0.05105344,  0.01613406,\n",
       "         -0.12517865,  0.27587732, -0.12297195,  0.05931359, -0.15810756,\n",
       "         -0.06381415,  0.0226697 ,  0.1491486 ,  0.21057061,  0.12192985,\n",
       "         -0.00833554, -0.0265572 , -0.08727873, -0.22798595,  0.08565019,\n",
       "          0.15669258,  0.09078538,  0.08014995,  0.15201085, -0.03744504,\n",
       "         -0.15601329, -0.04265977,  0.17966824,  0.45222675, -0.10699153,\n",
       "          0.05755693,  0.28138609,  0.21673046,  0.10030434,  0.21948345,\n",
       "          0.04961788,  0.14751386, -0.17609833,  0.05194623,  0.02429971],\n",
       "        [-0.04747398,  0.00128245,  0.24797587,  0.00344191,  0.00457621,\n",
       "          0.00769899,  0.06456909,  0.0988221 , -0.05035195,  0.11089283,\n",
       "          0.09195881,  0.09665512,  0.07870106, -0.05303551,  0.00572593,\n",
       "         -0.28543206, -0.02146992, -0.09590212,  0.18466711, -0.18561722,\n",
       "         -0.00302881, -0.08216079,  0.25790773,  0.24052796,  0.05073987,\n",
       "         -0.13540588, -0.10160231, -0.22622869,  0.04852131, -0.14758341,\n",
       "         -0.05233224, -0.17576063, -0.25244469,  0.04890938, -0.03069305,\n",
       "          0.09275871,  0.05070033,  0.22792419, -0.3389217 ,  0.04615131],\n",
       "        [-0.12542775,  0.03577774,  0.20121697,  0.22602498,  0.03562786,\n",
       "          0.12997207,  0.01640609, -0.03194841,  0.21649292, -0.04481061,\n",
       "         -0.12308817, -0.40864305,  0.1939439 ,  0.24494949, -0.12098651,\n",
       "         -0.21955903,  0.15852669, -0.08327113,  0.0197018 ,  0.04926634,\n",
       "          0.01095963,  0.19103003,  0.02719957, -0.00602627,  0.29806171,\n",
       "          0.0444619 ,  0.08195363, -0.05947883,  0.00441959, -0.32819172,\n",
       "         -0.10696872, -0.31957497,  0.04412629, -0.11940628,  0.03598203,\n",
       "         -0.06153133, -0.08728251,  0.22547564, -0.12922826,  0.2371831 ],\n",
       "        [-0.26591477, -0.36821482,  0.21460202,  0.04538692, -0.15966815,\n",
       "          0.21190459, -0.1056893 , -0.04676174, -0.26528339,  0.09770196,\n",
       "          0.12686447,  0.06273861,  0.23394519,  0.0355639 , -0.13161347,\n",
       "         -0.20913702, -0.09706376, -0.5130237 , -0.04938446, -0.15077441,\n",
       "          0.10576493, -0.12300484,  0.07620432,  0.00248575, -0.13883736,\n",
       "          0.19727352,  0.08632842,  0.01225754,  0.13532706, -0.08140311,\n",
       "         -0.07549956,  0.08070453,  0.17359046, -0.2890075 , -0.19498739,\n",
       "         -0.15854709,  0.06469653,  0.17597462,  0.12426723,  0.10905661]]),\n",
       " 'b3': array([[-3.60002685e-02],\n",
       "        [ 4.57580284e-02],\n",
       "        [ 9.42938305e-02],\n",
       "        [-3.64662893e-04],\n",
       "        [ 1.26729828e-06],\n",
       "        [ 8.74607835e-02],\n",
       "        [-2.73648307e-02],\n",
       "        [ 2.35474298e-02],\n",
       "        [-2.72815454e-02],\n",
       "        [-6.62587812e-03],\n",
       "        [ 0.00000000e+00],\n",
       "        [ 8.95500488e-02],\n",
       "        [ 6.43889926e-06],\n",
       "        [ 1.20172188e-03],\n",
       "        [ 0.00000000e+00]]),\n",
       " 'W4': array([[-0.05978149,  0.05330699, -0.18204884,  0.11071392,  0.36629434,\n",
       "          0.28676704, -0.15238672, -0.05180282,  0.1351317 , -0.39328398,\n",
       "         -0.11459518,  0.12694001, -0.17564703, -0.08466591,  0.14406742],\n",
       "        [-0.31332208, -0.01923021, -0.20689854, -0.01379123,  0.1054187 ,\n",
       "         -0.01186053,  0.1724195 ,  0.32059516,  0.34370248,  0.09903783,\n",
       "         -0.06723844,  0.07738743, -0.10853542,  0.00474636,  0.51396352],\n",
       "        [-0.09146841,  0.22269672,  0.37456965, -0.36062456,  0.16812015,\n",
       "          0.30360227, -0.3511088 ,  0.01496839, -0.30911573, -0.11825082,\n",
       "          0.11332686,  0.29982543,  0.05800312,  0.16022149, -0.06632387],\n",
       "        [-0.01905309,  0.25559801,  0.16154854,  0.36306055, -0.0264976 ,\n",
       "         -0.04872225,  0.3417366 ,  0.17206673, -0.10036354,  0.44616377,\n",
       "         -0.29647725,  0.07952619, -0.00996158,  0.35079598, -0.33707562],\n",
       "        [-0.13521627, -0.41255082,  0.33699547,  0.01225978,  0.00955088,\n",
       "         -0.13861111,  0.10713945, -0.0991976 ,  0.13532719,  0.08952807,\n",
       "         -0.3494014 ,  0.08311734,  0.13771861, -0.30294847, -0.13896582]]),\n",
       " 'b4': array([[-4.65187042e-02],\n",
       "        [ 1.08137459e-01],\n",
       "        [ 3.47873393e-01],\n",
       "        [-8.49597607e-02],\n",
       "        [-2.56285102e-04]]),\n",
       " 'W5': array([[-0.10513465,  0.15878635,  0.55977628, -0.68833939, -0.05807189]]),\n",
       " 'b5': array([[0.83330338]])}"
      ]
     },
     "execution_count": 22,
     "metadata": {},
     "output_type": "execute_result"
    }
   ],
   "source": [
    "parameters"
   ]
  },
  {
   "cell_type": "code",
   "execution_count": 23,
   "metadata": {},
   "outputs": [],
   "source": [
    "import pickle"
   ]
  },
  {
   "cell_type": "code",
   "execution_count": 24,
   "metadata": {},
   "outputs": [],
   "source": [
    "filename = 'saved_parameters'\n",
    "outfile = open(filename, 'wb')"
   ]
  },
  {
   "cell_type": "code",
   "execution_count": 25,
   "metadata": {},
   "outputs": [],
   "source": [
    "pickle.dump(parameters,outfile)"
   ]
  },
  {
   "cell_type": "code",
   "execution_count": 26,
   "metadata": {},
   "outputs": [],
   "source": [
    "outfile.close()"
   ]
  },
  {
   "cell_type": "code",
   "execution_count": 27,
   "metadata": {},
   "outputs": [],
   "source": [
    "# parameters saved"
   ]
  },
  {
   "cell_type": "code",
   "execution_count": 28,
   "metadata": {},
   "outputs": [],
   "source": [
    "# reload them to check"
   ]
  },
  {
   "cell_type": "code",
   "execution_count": 29,
   "metadata": {},
   "outputs": [],
   "source": [
    "infile = open(filename, 'rb')"
   ]
  },
  {
   "cell_type": "code",
   "execution_count": 30,
   "metadata": {},
   "outputs": [],
   "source": [
    "new_params = pickle.load(infile)"
   ]
  },
  {
   "cell_type": "code",
   "execution_count": 31,
   "metadata": {},
   "outputs": [],
   "source": [
    "infile.close()"
   ]
  },
  {
   "cell_type": "code",
   "execution_count": 33,
   "metadata": {},
   "outputs": [
    {
     "name": "stdout",
     "output_type": "stream",
     "text": [
      "{'W1': array([[ 7.21363083e-03, -2.71717816e-03, -2.34594789e-03, ...,\n",
      "        -3.91767475e-03,  5.82427211e-03,  5.25475422e-03],\n",
      "       [-4.23376044e-03, -7.88246418e-03,  4.31881002e-03, ...,\n",
      "        -3.46208197e-03, -2.68118115e-03,  1.30741222e-03],\n",
      "       [-4.36355700e-03, -2.96707233e-05,  1.99548955e-03, ...,\n",
      "         1.10879909e-03,  1.58925250e-04,  7.45895193e-03],\n",
      "       ...,\n",
      "       [ 8.67213219e-04,  5.01689953e-04, -1.07028446e-03, ...,\n",
      "         2.77803189e-03,  1.07631613e-04, -8.86425841e-03],\n",
      "       [-2.54244678e-03, -2.48199110e-03,  2.64926396e-03, ...,\n",
      "        -3.63219020e-03,  7.55355203e-03, -7.38152911e-04],\n",
      "       [-1.43964150e-03, -2.13003018e-03,  7.44976299e-03, ...,\n",
      "         6.00692515e-03,  3.70536321e-03,  5.56554460e-04]]), 'b1': array([[ 1.35645666e-02],\n",
      "       [ 3.51916052e-02],\n",
      "       [-3.62270154e-03],\n",
      "       [ 2.65670559e-02],\n",
      "       [ 8.23726989e-04],\n",
      "       [ 1.94412114e-03],\n",
      "       [ 3.14075418e-02],\n",
      "       [ 7.17229276e-03],\n",
      "       [ 2.43454630e-04],\n",
      "       [-2.10918935e-03],\n",
      "       [-7.43425520e-04],\n",
      "       [-3.17686990e-03],\n",
      "       [ 3.65737055e-04],\n",
      "       [-4.54635369e-03],\n",
      "       [-1.24988468e-03],\n",
      "       [ 4.89801243e-03],\n",
      "       [-3.59007221e-05],\n",
      "       [-2.11888328e-04],\n",
      "       [ 5.76685561e-03],\n",
      "       [-5.32380945e-04],\n",
      "       [ 6.81570127e-02],\n",
      "       [-1.43408154e-03],\n",
      "       [ 0.00000000e+00],\n",
      "       [ 7.51264274e-05],\n",
      "       [ 2.67276466e-02],\n",
      "       [-1.17238644e-03],\n",
      "       [ 4.52447922e-03],\n",
      "       [-6.50932589e-04],\n",
      "       [ 3.16814504e-05],\n",
      "       [-1.96360305e-04],\n",
      "       [ 8.26576871e-03],\n",
      "       [-4.01280187e-04],\n",
      "       [ 8.40050441e-03],\n",
      "       [-1.15955048e-03],\n",
      "       [-6.17728452e-04],\n",
      "       [ 2.32935393e-02],\n",
      "       [-2.54378722e-04],\n",
      "       [ 5.91854502e-05],\n",
      "       [ 3.04416591e-03],\n",
      "       [ 1.27553647e-02],\n",
      "       [-1.97521059e-05],\n",
      "       [-2.57067056e-03],\n",
      "       [-3.31201924e-04],\n",
      "       [ 1.99787589e-02],\n",
      "       [ 1.62422828e-02],\n",
      "       [ 3.01563348e-03],\n",
      "       [-1.41383478e-03],\n",
      "       [-1.84624506e-03],\n",
      "       [-2.79022085e-03],\n",
      "       [-7.42987116e-05]]), 'W2': array([[ 0.16732767,  0.07529557, -0.15820899, ...,  0.0239462 ,\n",
      "        -0.02825109,  0.09562177],\n",
      "       [-0.00223757,  0.09594105, -0.20573758, ..., -0.08034664,\n",
      "        -0.01430684,  0.03899607],\n",
      "       [-0.14172356, -0.05047689,  0.11162172, ...,  0.00929047,\n",
      "         0.00876349,  0.19026568],\n",
      "       ...,\n",
      "       [ 0.13809325, -0.35373244,  0.15940432, ...,  0.12278402,\n",
      "         0.23698921, -0.05984792],\n",
      "       [-0.00842986, -0.21397746,  0.08898665, ..., -0.03131262,\n",
      "         0.02539512, -0.23364097],\n",
      "       [-0.00688473, -0.34160574, -0.10193398, ..., -0.01922044,\n",
      "         0.19599446, -0.04257999]]), 'b2': array([[ 4.24467609e-02],\n",
      "       [-1.94991861e-02],\n",
      "       [-3.56494232e-05],\n",
      "       [ 0.00000000e+00],\n",
      "       [ 0.00000000e+00],\n",
      "       [-2.84394491e-06],\n",
      "       [ 0.00000000e+00],\n",
      "       [-3.57345267e-05],\n",
      "       [-4.07191648e-03],\n",
      "       [ 1.04886257e-02],\n",
      "       [-1.60259680e-02],\n",
      "       [-2.65368373e-05],\n",
      "       [ 3.47817214e-02],\n",
      "       [ 2.39958282e-02],\n",
      "       [ 8.09711610e-08],\n",
      "       [ 0.00000000e+00],\n",
      "       [ 6.22458644e-05],\n",
      "       [-3.15603200e-03],\n",
      "       [-1.73901414e-03],\n",
      "       [-1.31071742e-02],\n",
      "       [ 2.68786546e-03],\n",
      "       [ 8.20888515e-03],\n",
      "       [-9.21359687e-03],\n",
      "       [ 2.58237264e-02],\n",
      "       [ 1.26174687e-05],\n",
      "       [-1.39068956e-02],\n",
      "       [-1.03545761e-02],\n",
      "       [ 3.76909608e-02],\n",
      "       [ 3.45878811e-02],\n",
      "       [ 0.00000000e+00],\n",
      "       [ 1.99416285e-07],\n",
      "       [ 5.44595077e-02],\n",
      "       [ 7.40767956e-03],\n",
      "       [ 1.78041328e-02],\n",
      "       [ 4.32871103e-02],\n",
      "       [ 2.20355039e-02],\n",
      "       [ 5.59067100e-02],\n",
      "       [-1.34751692e-02],\n",
      "       [-1.65377099e-07],\n",
      "       [-8.74236481e-06]]), 'W3': array([[-0.03652991,  0.00985151,  0.05869344,  0.03578095,  0.36124598,\n",
      "         0.2000899 ,  0.0355375 ,  0.01884058,  0.04838705, -0.22509637,\n",
      "        -0.05120016,  0.31010379, -0.01635323,  0.19966908,  0.06547448,\n",
      "         0.31017799, -0.02215748, -0.04855888,  0.15999808,  0.06725944,\n",
      "         0.31284226, -0.10732292,  0.07239406, -0.06686678,  0.27986898,\n",
      "         0.02365547,  0.09529017, -0.09519887,  0.06040693,  0.2522157 ,\n",
      "        -0.14579476,  0.20563885,  0.22803739, -0.23159044,  0.30668172,\n",
      "        -0.07888884, -0.00404453,  0.02794977,  0.04146723,  0.14119245],\n",
      "       [-0.02431251, -0.09737886, -0.2432618 ,  0.23488556, -0.11147249,\n",
      "         0.0547356 , -0.28715476, -0.08891116, -0.04893697,  0.00861664,\n",
      "        -0.1138935 ,  0.20326982, -0.04243024,  0.06161527, -0.02877499,\n",
      "        -0.03371106, -0.32200288, -0.08828882,  0.05849933, -0.1094477 ,\n",
      "        -0.01689982,  0.04794221,  0.08818661,  0.08876272,  0.01067256,\n",
      "        -0.13554217,  0.2245043 ,  0.07534983,  0.13466989, -0.04082012,\n",
      "         0.02473031,  0.38765979, -0.01092129,  0.18010365,  0.02993517,\n",
      "        -0.00412215,  0.17301678, -0.06367134, -0.29028016, -0.14719908],\n",
      "       [ 0.23723046, -0.06826114,  0.12064152, -0.15386913,  0.27201255,\n",
      "         0.07231939, -0.08638886, -0.10355298, -0.24615104,  0.21792374,\n",
      "        -0.07424489, -0.15174932,  0.27906378, -0.17312588,  0.04913814,\n",
      "         0.1296324 ,  0.16823783,  0.15520892,  0.05813871, -0.17447976,\n",
      "         0.08708294,  0.03108813, -0.3762469 , -0.03287629, -0.00296751,\n",
      "         0.15222835, -0.21661771,  0.08930039,  0.00847538,  0.09077149,\n",
      "        -0.17246827,  0.21481164, -0.05011561, -0.05690726,  0.32515493,\n",
      "        -0.01921141,  0.01406564, -0.12494997, -0.01133107,  0.04207331],\n",
      "       [-0.36264829, -0.037314  ,  0.04585696, -0.02946648,  0.02831523,\n",
      "         0.15654431,  0.11830761, -0.10684947,  0.05750016,  0.18186015,\n",
      "        -0.14704591,  0.07846635, -0.14832589, -0.05465073,  0.23234875,\n",
      "         0.14938485,  0.1958797 , -0.21543123, -0.0816298 , -0.29785317,\n",
      "        -0.04773554, -0.13667395, -0.01340948,  0.20705592,  0.01150946,\n",
      "         0.11668754,  0.30829868,  0.05423515, -0.28568094, -0.11656312,\n",
      "         0.07667504,  0.10419715, -0.04298387,  0.18154898,  0.25723525,\n",
      "         0.02476326, -0.12990311,  0.18345552, -0.15712029,  0.28462526],\n",
      "       [-0.01717669,  0.16679093, -0.08010527, -0.20096118,  0.14931756,\n",
      "         0.04681778,  0.09923816, -0.1956252 ,  0.00719202, -0.24202188,\n",
      "        -0.2192015 ,  0.04376801,  0.08531514,  0.07698304, -0.47210424,\n",
      "        -0.14385414, -0.16225402,  0.17761224,  0.02596777,  0.14541639,\n",
      "        -0.03322164,  0.49120223,  0.23332794, -0.21357821,  0.03671441,\n",
      "        -0.02809878, -0.10925595,  0.25116434, -0.27210563, -0.00359699,\n",
      "         0.06122797, -0.13829547,  0.18966472, -0.03033258, -0.1401754 ,\n",
      "        -0.16316124, -0.27413458, -0.11425359,  0.03571631, -0.17316138],\n",
      "       [ 0.10551198, -0.23088494, -0.14510411, -0.07380324, -0.18211819,\n",
      "        -0.03601928,  0.01809428, -0.12067567,  0.16033073, -0.00822926,\n",
      "        -0.01478108,  0.21616472, -0.00093876,  0.24178564,  0.02020221,\n",
      "        -0.03713451,  0.23064645, -0.03556557,  0.01785613,  0.08619943,\n",
      "        -0.03468301,  0.21901314,  0.1886442 ,  0.14424868,  0.03438235,\n",
      "        -0.074039  ,  0.11309391,  0.1079174 , -0.15049176, -0.16054169,\n",
      "        -0.11033033,  0.11707117,  0.0496006 , -0.06151994,  0.03344962,\n",
      "         0.09154237,  0.32536702,  0.07580106, -0.0084642 ,  0.07391404],\n",
      "       [ 0.02430713, -0.10128744, -0.15386371, -0.14933128,  0.06472838,\n",
      "         0.24806529, -0.22580745,  0.21150489, -0.22409522,  0.08057539,\n",
      "        -0.1431267 ,  0.12902373,  0.12412879, -0.09298379, -0.0649719 ,\n",
      "        -0.32687193, -0.19676017,  0.06104532,  0.04719606,  0.03941776,\n",
      "        -0.02747434,  0.42232879,  0.25339488, -0.0016369 , -0.23575217,\n",
      "        -0.08139197, -0.02264859,  0.10413186, -0.1240543 , -0.19510778,\n",
      "         0.15703483,  0.20076569, -0.03332059,  0.05521847,  0.09478626,\n",
      "        -0.09201802, -0.08676549,  0.07880887, -0.08158654,  0.04903054],\n",
      "       [ 0.09141787,  0.03224162, -0.17641497,  0.06697986,  0.07092682,\n",
      "        -0.08712898,  0.15336382, -0.07421789, -0.02229858,  0.21127545,\n",
      "        -0.11462307,  0.07827772,  0.22618868,  0.12117735,  0.04971728,\n",
      "        -0.05637481, -0.29205957, -0.260786  ,  0.03043011, -0.22095779,\n",
      "        -0.20012524, -0.45293857, -0.14649429, -0.19302858, -0.22951742,\n",
      "         0.13363257, -0.01080752,  0.17312096,  0.0603968 , -0.04407288,\n",
      "         0.06733563,  0.02754538, -0.02197139,  0.07413461,  0.25454907,\n",
      "        -0.08226651,  0.16595058, -0.00069904,  0.08476209,  0.04030573],\n",
      "       [-0.11244513,  0.26355431, -0.01677771,  0.16719536, -0.06407722,\n",
      "         0.0267369 ,  0.12743383, -0.13235872,  0.0559566 ,  0.28971662,\n",
      "        -0.03092624, -0.01143234,  0.11840054, -0.04653178, -0.07783437,\n",
      "         0.20124423,  0.02496038, -0.07791282,  0.22060012,  0.00796118,\n",
      "         0.05518584,  0.18168668, -0.04210572, -0.05580309, -0.16301867,\n",
      "         0.22099389,  0.1245242 ,  0.17459496,  0.06387712,  0.01820657,\n",
      "        -0.27607004,  0.13093059,  0.03574906, -0.09845239,  0.13995073,\n",
      "        -0.33232059, -0.01612552,  0.09496328,  0.04450687,  0.09385238],\n",
      "       [-0.3864995 , -0.06594788, -0.03005074, -0.05964546, -0.09864578,\n",
      "         0.13048621, -0.12346034,  0.04978562,  0.05371084, -0.27938412,\n",
      "         0.05969303,  0.33692831,  0.27584259,  0.29145538, -0.15295503,\n",
      "        -0.24456967, -0.31636331, -0.2019639 ,  0.06724657, -0.29730675,\n",
      "        -0.1574982 ,  0.13999106, -0.17402894,  0.06241836,  0.13049698,\n",
      "         0.02631071, -0.04319637, -0.17405536,  0.01080576, -0.07536762,\n",
      "        -0.27170111,  0.26431543,  0.27826498, -0.10805759, -0.15667165,\n",
      "         0.04356444,  0.10501729,  0.12511168, -0.25707446, -0.11174615],\n",
      "       [-0.20597954, -0.12729765,  0.14034306, -0.12765318, -0.01846655,\n",
      "         0.22948909, -0.2230379 ,  0.17574638, -0.14279987,  0.07707347,\n",
      "         0.06485349, -0.24920093,  0.16380779, -0.29903467,  0.20380088,\n",
      "        -0.01392284, -0.11713614,  0.05001649, -0.23198421,  0.3276513 ,\n",
      "        -0.13831697, -0.17889944, -0.02766134, -0.07972984, -0.10070131,\n",
      "         0.07405923,  0.16224696,  0.03639114, -0.06196764, -0.08622271,\n",
      "        -0.23885898,  0.18585471, -0.03781884, -0.31298226, -0.1688308 ,\n",
      "         0.01795194,  0.18798007, -0.09023311,  0.22799383,  0.10687867],\n",
      "       [ 0.05013722, -0.11218537, -0.39516743,  0.05105344,  0.01613406,\n",
      "        -0.12517865,  0.27587732, -0.12297195,  0.05931359, -0.15810756,\n",
      "        -0.06381415,  0.0226697 ,  0.1491486 ,  0.21057061,  0.12192985,\n",
      "        -0.00833554, -0.0265572 , -0.08727873, -0.22798595,  0.08565019,\n",
      "         0.15669258,  0.09078538,  0.08014995,  0.15201085, -0.03744504,\n",
      "        -0.15601329, -0.04265977,  0.17966824,  0.45222675, -0.10699153,\n",
      "         0.05755693,  0.28138609,  0.21673046,  0.10030434,  0.21948345,\n",
      "         0.04961788,  0.14751386, -0.17609833,  0.05194623,  0.02429971],\n",
      "       [-0.04747398,  0.00128245,  0.24797587,  0.00344191,  0.00457621,\n",
      "         0.00769899,  0.06456909,  0.0988221 , -0.05035195,  0.11089283,\n",
      "         0.09195881,  0.09665512,  0.07870106, -0.05303551,  0.00572593,\n",
      "        -0.28543206, -0.02146992, -0.09590212,  0.18466711, -0.18561722,\n",
      "        -0.00302881, -0.08216079,  0.25790773,  0.24052796,  0.05073987,\n",
      "        -0.13540588, -0.10160231, -0.22622869,  0.04852131, -0.14758341,\n",
      "        -0.05233224, -0.17576063, -0.25244469,  0.04890938, -0.03069305,\n",
      "         0.09275871,  0.05070033,  0.22792419, -0.3389217 ,  0.04615131],\n",
      "       [-0.12542775,  0.03577774,  0.20121697,  0.22602498,  0.03562786,\n",
      "         0.12997207,  0.01640609, -0.03194841,  0.21649292, -0.04481061,\n",
      "        -0.12308817, -0.40864305,  0.1939439 ,  0.24494949, -0.12098651,\n",
      "        -0.21955903,  0.15852669, -0.08327113,  0.0197018 ,  0.04926634,\n",
      "         0.01095963,  0.19103003,  0.02719957, -0.00602627,  0.29806171,\n",
      "         0.0444619 ,  0.08195363, -0.05947883,  0.00441959, -0.32819172,\n",
      "        -0.10696872, -0.31957497,  0.04412629, -0.11940628,  0.03598203,\n",
      "        -0.06153133, -0.08728251,  0.22547564, -0.12922826,  0.2371831 ],\n",
      "       [-0.26591477, -0.36821482,  0.21460202,  0.04538692, -0.15966815,\n",
      "         0.21190459, -0.1056893 , -0.04676174, -0.26528339,  0.09770196,\n",
      "         0.12686447,  0.06273861,  0.23394519,  0.0355639 , -0.13161347,\n",
      "        -0.20913702, -0.09706376, -0.5130237 , -0.04938446, -0.15077441,\n",
      "         0.10576493, -0.12300484,  0.07620432,  0.00248575, -0.13883736,\n",
      "         0.19727352,  0.08632842,  0.01225754,  0.13532706, -0.08140311,\n",
      "        -0.07549956,  0.08070453,  0.17359046, -0.2890075 , -0.19498739,\n",
      "        -0.15854709,  0.06469653,  0.17597462,  0.12426723,  0.10905661]]), 'b3': array([[-3.60002685e-02],\n",
      "       [ 4.57580284e-02],\n",
      "       [ 9.42938305e-02],\n",
      "       [-3.64662893e-04],\n",
      "       [ 1.26729828e-06],\n",
      "       [ 8.74607835e-02],\n",
      "       [-2.73648307e-02],\n",
      "       [ 2.35474298e-02],\n",
      "       [-2.72815454e-02],\n",
      "       [-6.62587812e-03],\n",
      "       [ 0.00000000e+00],\n",
      "       [ 8.95500488e-02],\n",
      "       [ 6.43889926e-06],\n",
      "       [ 1.20172188e-03],\n",
      "       [ 0.00000000e+00]]), 'W4': array([[-0.05978149,  0.05330699, -0.18204884,  0.11071392,  0.36629434,\n",
      "         0.28676704, -0.15238672, -0.05180282,  0.1351317 , -0.39328398,\n",
      "        -0.11459518,  0.12694001, -0.17564703, -0.08466591,  0.14406742],\n",
      "       [-0.31332208, -0.01923021, -0.20689854, -0.01379123,  0.1054187 ,\n",
      "        -0.01186053,  0.1724195 ,  0.32059516,  0.34370248,  0.09903783,\n",
      "        -0.06723844,  0.07738743, -0.10853542,  0.00474636,  0.51396352],\n",
      "       [-0.09146841,  0.22269672,  0.37456965, -0.36062456,  0.16812015,\n",
      "         0.30360227, -0.3511088 ,  0.01496839, -0.30911573, -0.11825082,\n",
      "         0.11332686,  0.29982543,  0.05800312,  0.16022149, -0.06632387],\n",
      "       [-0.01905309,  0.25559801,  0.16154854,  0.36306055, -0.0264976 ,\n",
      "        -0.04872225,  0.3417366 ,  0.17206673, -0.10036354,  0.44616377,\n",
      "        -0.29647725,  0.07952619, -0.00996158,  0.35079598, -0.33707562],\n",
      "       [-0.13521627, -0.41255082,  0.33699547,  0.01225978,  0.00955088,\n",
      "        -0.13861111,  0.10713945, -0.0991976 ,  0.13532719,  0.08952807,\n",
      "        -0.3494014 ,  0.08311734,  0.13771861, -0.30294847, -0.13896582]]), 'b4': array([[-4.65187042e-02],\n",
      "       [ 1.08137459e-01],\n",
      "       [ 3.47873393e-01],\n",
      "       [-8.49597607e-02],\n",
      "       [-2.56285102e-04]]), 'W5': array([[-0.10513465,  0.15878635,  0.55977628, -0.68833939, -0.05807189]]), 'b5': array([[0.83330338]])}\n"
     ]
    }
   ],
   "source": [
    "print(new_params)"
   ]
  },
  {
   "cell_type": "code",
   "execution_count": 34,
   "metadata": {},
   "outputs": [
    {
     "name": "stdout",
     "output_type": "stream",
     "text": [
      "Accuracy: 0.7658053875755908\n"
     ]
    }
   ],
   "source": [
    "pred_test = predict(test_x, test_y, new_params)"
   ]
  },
  {
   "cell_type": "code",
   "execution_count": null,
   "metadata": {},
   "outputs": [],
   "source": []
  }
 ],
 "metadata": {
  "kernelspec": {
   "display_name": "Python 3",
   "language": "python",
   "name": "python3"
  },
  "language_info": {
   "codemirror_mode": {
    "name": "ipython",
    "version": 3
   },
   "file_extension": ".py",
   "mimetype": "text/x-python",
   "name": "python",
   "nbconvert_exporter": "python",
   "pygments_lexer": "ipython3",
   "version": "3.8.5"
  }
 },
 "nbformat": 4,
 "nbformat_minor": 4
}
